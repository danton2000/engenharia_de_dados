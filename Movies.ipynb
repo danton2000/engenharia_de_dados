{
  "nbformat": 4,
  "nbformat_minor": 0,
  "metadata": {
    "colab": {
      "provenance": []
    },
    "kernelspec": {
      "name": "python3",
      "display_name": "Python 3"
    },
    "language_info": {
      "name": "python"
    }
  },
  "cells": [
    {
      "cell_type": "code",
      "execution_count": null,
      "metadata": {
        "id": "8eISQgARNINY"
      },
      "outputs": [],
      "source": [
        "import pandas as pd\n",
        "\n",
        "# Carregar os CSVs\n",
        "top_rated_movies = pd.read_csv('top_rated_movies.csv')\n",
        "amazon_movies = pd.read_csv('amazon_movies.csv')\n",
        "netflix_movies = pd.read_csv('netflix_movies.csv')\n",
        "\n",
        "# Certifique-se de que os títulos estão em minúsculas para evitar problemas de comparação\n",
        "top_rated_movies['title'] = top_rated_movies['title'].str.lower()\n",
        "amazon_movies['title'] = amazon_movies['title'].str.lower()\n",
        "netflix_movies['title'] = netflix_movies['title'].str.lower()"
      ]
    },
    {
      "cell_type": "markdown",
      "source": [
        "1. Quais filmes presentes no IMDb também estão disponíveis no Amazon Prime ou Netflix?"
      ],
      "metadata": {
        "id": "XAfmKGznNVsr"
      }
    },
    {
      "cell_type": "code",
      "source": [],
      "metadata": {
        "id": "4Hrq2H0TNcBi"
      },
      "execution_count": null,
      "outputs": []
    },
    {
      "cell_type": "markdown",
      "source": [
        "2. Qual é a média de avaliação (vote_average) dos filmes no IMDb que estão disponíveis em cada uma das plataformas (Amazon Prime e Netflix)?"
      ],
      "metadata": {
        "id": "0BdIIxAHNc7a"
      }
    },
    {
      "cell_type": "code",
      "source": [],
      "metadata": {
        "id": "k6N6zN6-NfJJ"
      },
      "execution_count": null,
      "outputs": []
    },
    {
      "cell_type": "markdown",
      "source": [
        "3. Quais são os diretores mais recorrentes nos filmes disponíveis tanto no Amazon Prime quanto no Netflix?"
      ],
      "metadata": {
        "id": "5GD_N82nNf0s"
      }
    },
    {
      "cell_type": "code",
      "source": [],
      "metadata": {
        "id": "ZLfn0geVNhaJ"
      },
      "execution_count": null,
      "outputs": []
    },
    {
      "cell_type": "markdown",
      "source": [
        "4. Quais países têm mais filmes no catálogo do Amazon Prime e Netflix?"
      ],
      "metadata": {
        "id": "WIksAQ_LNlfE"
      }
    },
    {
      "cell_type": "code",
      "source": [],
      "metadata": {
        "id": "wcgMlJ-mNl_p"
      },
      "execution_count": null,
      "outputs": []
    },
    {
      "cell_type": "markdown",
      "source": [
        "5. Há algum padrão nas avaliações dos filmes entre diferentes países ou gêneros?"
      ],
      "metadata": {
        "id": "xdeuYdBTNmql"
      }
    },
    {
      "cell_type": "code",
      "source": [],
      "metadata": {
        "id": "Y1iFrTstNosy"
      },
      "execution_count": null,
      "outputs": []
    },
    {
      "cell_type": "markdown",
      "source": [
        "6. Quais são os filmes mais populares no IMDb que estão presentes no Amazon Prime e/ou Netflix?"
      ],
      "metadata": {
        "id": "m8Jra3uQNsHe"
      }
    },
    {
      "cell_type": "code",
      "source": [],
      "metadata": {
        "id": "-w-RAQiENslC"
      },
      "execution_count": null,
      "outputs": []
    },
    {
      "cell_type": "markdown",
      "source": [
        "7. Distribuição do ano de lançamento dos filmes mais bem avaliados no IMDb presentes nas plataformas de streaming"
      ],
      "metadata": {
        "id": "D5OAsY4GNuFN"
      }
    },
    {
      "cell_type": "code",
      "source": [],
      "metadata": {
        "id": "eCZTTmiONt7t"
      },
      "execution_count": null,
      "outputs": []
    },
    {
      "cell_type": "markdown",
      "source": [
        "8. Porcentagem de filmes em cada plataforma que estão entre os top-rated movies do IMDb"
      ],
      "metadata": {
        "id": "DnRMR4d0N0aH"
      }
    },
    {
      "cell_type": "code",
      "source": [],
      "metadata": {
        "id": "0oxOF3vMN05J"
      },
      "execution_count": null,
      "outputs": []
    },
    {
      "cell_type": "markdown",
      "source": [
        "9. Há uma relação entre a duração dos filmes e a avaliação no IMDb?"
      ],
      "metadata": {
        "id": "eDZLdYWEN3En"
      }
    },
    {
      "cell_type": "code",
      "source": [],
      "metadata": {
        "id": "yIZBsy-dN3ci"
      },
      "execution_count": null,
      "outputs": []
    },
    {
      "cell_type": "markdown",
      "source": [
        "10. Quantos atores (coluna cast) participam de filmes que estão entre os top rated para cada streaming?"
      ],
      "metadata": {
        "id": "qzyjU2Z9UcUx"
      }
    },
    {
      "cell_type": "code",
      "source": [],
      "metadata": {
        "id": "jh6P9okLVtsb"
      },
      "execution_count": null,
      "outputs": []
    },
    {
      "cell_type": "markdown",
      "source": [
        "11. O ator ou atriz que mais participou de filmes da lista de top rated?"
      ],
      "metadata": {
        "id": "l_8UqDFsVypA"
      }
    },
    {
      "cell_type": "code",
      "source": [],
      "metadata": {
        "id": "9KSIL3OJWGrq"
      },
      "execution_count": null,
      "outputs": []
    }
  ]
}