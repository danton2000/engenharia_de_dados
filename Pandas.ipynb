{
  "nbformat": 4,
  "nbformat_minor": 0,
  "metadata": {
    "colab": {
      "provenance": []
    },
    "kernelspec": {
      "name": "python3",
      "display_name": "Python 3"
    },
    "language_info": {
      "name": "python"
    }
  },
  "cells": [
    {
      "cell_type": "code",
      "source": [
        "# Importando a biblioteca pandas\n",
        "import pandas as pd"
      ],
      "metadata": {
        "id": "j8C4yd9fOnP_"
      },
      "execution_count": 2,
      "outputs": []
    },
    {
      "cell_type": "code",
      "source": [
        "# Criando um DataFrame a partir de um dicionário\n",
        "data = {'Nome': ['Alice', 'Bob', 'Charlie', 'David'],\n",
        "        'Idade': [25, 30, 22, 28],\n",
        "        'Cidade': ['São Paulo', 'Rio de Janeiro', 'Belo Horizonte', 'Curitiba']}\n",
        "df = pd.DataFrame(data)\n"
      ],
      "metadata": {
        "id": "lVOJmA_vOqRQ"
      },
      "execution_count": null,
      "outputs": []
    },
    {
      "cell_type": "code",
      "source": [
        "# Exibindo o DataFrame\n",
        "print(\"DataFrame completo:\")\n",
        "print(df)"
      ],
      "metadata": {
        "id": "f8VeAIXbOzPo"
      },
      "execution_count": null,
      "outputs": []
    },
    {
      "cell_type": "code",
      "source": [
        "# Acessando colunas\n",
        "print(\"\\nAcessando a coluna 'Nome':\")\n",
        "print(df['Nome'])\n"
      ],
      "metadata": {
        "id": "cQXLQUTmOz7J"
      },
      "execution_count": null,
      "outputs": []
    },
    {
      "cell_type": "code",
      "source": [
        "# Acessando linhas\n",
        "print(\"\\nAcessando as duas primeiras linhas:\")\n",
        "print(df.head(2))"
      ],
      "metadata": {
        "id": "rlo75-BtOz4h"
      },
      "execution_count": null,
      "outputs": []
    },
    {
      "cell_type": "code",
      "source": [
        "# Filtrando dados\n",
        "print(\"\\nFiltrando pessoas com mais de 25 anos:\")\n",
        "print(df[df['Idade'] > 25])"
      ],
      "metadata": {
        "id": "Hs-egFxNO4uq"
      },
      "execution_count": null,
      "outputs": []
    },
    {
      "cell_type": "code",
      "source": [
        "# Ordenando dados\n",
        "print(\"\\nOrdenando o DataFrame por idade:\")\n",
        "print(df.sort_values('Idade'))"
      ],
      "metadata": {
        "id": "YYKhlAP0O6BD"
      },
      "execution_count": null,
      "outputs": []
    },
    {
      "cell_type": "code",
      "source": [
        "# Agrupando dados\n",
        "print(\"\\nAgrupando por cidade e calculando a média de idade:\")\n",
        "print(df.groupby('Cidade')['Idade'].mean())"
      ],
      "metadata": {
        "id": "UsL9ewItO7pq"
      },
      "execution_count": null,
      "outputs": []
    },
    {
      "cell_type": "code",
      "source": [
        "# Adicionando uma nova coluna\n",
        "df['Estado'] = ['SP', 'RJ', 'MG', 'PR']\n",
        "print(\"\\nDataFrame com a nova coluna 'Estado':\")\n",
        "print(df)"
      ],
      "metadata": {
        "id": "B64AoasVO9Ur"
      },
      "execution_count": null,
      "outputs": []
    },
    {
      "cell_type": "code",
      "source": [
        "# Removendo uma coluna\n",
        "df = df.drop('Estado', axis=1)\n",
        "print(\"\\nDataFrame após remover a coluna 'Estado':\")\n",
        "print(df)"
      ],
      "metadata": {
        "id": "pjC4o_hoO-hL"
      },
      "execution_count": null,
      "outputs": []
    },
    {
      "cell_type": "code",
      "execution_count": null,
      "metadata": {
        "id": "4HBbI9KUMfiv"
      },
      "outputs": [],
      "source": [
        "# Lendo dados de um arquivo CSV\n",
        "# df_csv = pd.read_csv('nome_do_arquivo.csv')\n",
        "\n",
        "# Salvando dados em um arquivo CSV\n",
        "# df.to_csv('nome_do_arquivo.csv', index=False)\n"
      ]
    }
  ]
}